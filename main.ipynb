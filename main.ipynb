{
 "cells": [
  {
   "cell_type": "code",
   "execution_count": 1,
   "metadata": {},
   "outputs": [],
   "source": [
    "import torch\n",
    "import torch.nn as nn\n",
    "import torch.nn.functional as F"
   ]
  },
  {
   "cell_type": "markdown",
   "metadata": {},
   "source": [
    "# SITS Tokenization"
   ]
  },
  {
   "cell_type": "code",
   "execution_count": 121,
   "metadata": {},
   "outputs": [
    {
     "data": {
      "text/plain": [
       "torch.Size([4, 768, 30, 64])"
      ]
     },
     "execution_count": 121,
     "metadata": {},
     "output_type": "execute_result"
    }
   ],
   "source": [
    "class PatchEmbedding(nn.Module):\n",
    "    def __init__(self, img_height=128, img_width=128, patch_size=16, in_channel=10, embed_dim=768):\n",
    "        super().__init__()\n",
    "        self.H = img_height\n",
    "        self.W = img_width\n",
    "        self.P = patch_size\n",
    "        self.C = in_channel\n",
    "        self.d = embed_dim\n",
    "\n",
    "        self.N = int(self.H * self.W // self.P**2)\n",
    "        self.n = int(self.N**0.5)\n",
    "        self.nh = int(self.H / self.P)\n",
    "        self.nw = int(self.W / self.P)\n",
    "\n",
    "        self.projection = nn.Conv3d(self.C, self.d, kernel_size=(1, self.P, self.P), stride=(1, self.P, self.P))\n",
    "\n",
    "        # self.cls_token = nn.Parameter(torch.zeros(1, 1, self.d)) # (1, 1, d)\n",
    "\n",
    "        self.pos_emb = nn.Parameter(torch.zeros(self.d, 1, self.N)) # (d, 1, N)\n",
    "\n",
    "\n",
    "\n",
    "    def forward(self, x):\n",
    "        B, T, C, H, W = x.shape # (B, T, C, H, W)\n",
    "\n",
    "        pos_emb = self.pos_emb # (d, 1, N)\n",
    "        pos_emb = pos_emb.expand(-1, T, -1) # (d, T, N)\n",
    "\n",
    "        x = x.view(B, C, T, H, W) # (B, C, T, H, W)\n",
    "        x = self.projection(x) # (B, d, T, nw, nh)\n",
    "        x = x.view(B, self.d, T, self.nh*self.nw) # (B, d, T, nh*nw) ~ (B, d, T, N)\n",
    "\n",
    "        # Add Positional Embeddings\n",
    "        x = x + pos_emb # (B, d, T, N)\n",
    "\n",
    "        return x\n",
    "\n",
    "\n",
    "\n",
    "x = torch.randn(4, 30, 10, 128, 128)\n",
    "PatchEmbedding(128,128,16,10,768)(x).shape"
   ]
  },
  {
   "cell_type": "markdown",
   "metadata": {},
   "source": [
    "# Temporal Encoding"
   ]
  },
  {
   "cell_type": "code",
   "execution_count": 103,
   "metadata": {},
   "outputs": [],
   "source": [
    "class TemporalEncoder(nn.Module):\n",
    "    def __init__(self):\n",
    "        super.__init__()\n",
    "        \n",
    "        \n",
    "        \n"
   ]
  },
  {
   "cell_type": "code",
   "execution_count": null,
   "metadata": {},
   "outputs": [],
   "source": []
  }
 ],
 "metadata": {
  "kernelspec": {
   "display_name": "base",
   "language": "python",
   "name": "python3"
  },
  "language_info": {
   "codemirror_mode": {
    "name": "ipython",
    "version": 3
   },
   "file_extension": ".py",
   "mimetype": "text/x-python",
   "name": "python",
   "nbconvert_exporter": "python",
   "pygments_lexer": "ipython3",
   "version": "3.11.4"
  },
  "orig_nbformat": 4
 },
 "nbformat": 4,
 "nbformat_minor": 2
}
